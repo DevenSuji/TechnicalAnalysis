{
 "metadata": {
  "language_info": {
   "codemirror_mode": {
    "name": "ipython",
    "version": 3
   },
   "file_extension": ".py",
   "mimetype": "text/x-python",
   "name": "python",
   "nbconvert_exporter": "python",
   "pygments_lexer": "ipython3",
   "version": "3.8.5-final"
  },
  "orig_nbformat": 2,
  "kernelspec": {
   "name": "python3",
   "display_name": "Python 3.8.5 64-bit",
   "metadata": {
    "interpreter": {
     "hash": "31f2aee4e71d21fbe5cf8b01ff0e069b9275f58929596ceb00d14d90e3e16cd6"
    }
   }
  }
 },
 "nbformat": 4,
 "nbformat_minor": 2,
 "cells": [
  {
   "source": [
    "# DAILY PROGRESS"
   ],
   "cell_type": "markdown",
   "metadata": {}
  },
  {
   "source": [
    "# <u><b><i>LEARNING PYTHON 5TH EDITION</i></b></u>\n"
   ],
   "cell_type": "markdown",
   "metadata": {}
  },
  {
   "source": [
    "| <b><u>Date</u></b> | <b><u>Page No.</u></b> |\n",
    "| :--: |:------: |\n",
    "| 26th Jan 2021  | 27 |\n",
    "| 29th Jan 2021 | 105 |\n",
    "| 30th Jan 2021 | 133 |\n",
    "| 1st Feb 2021 | 153 |\n",
    "| 3rd Feb 2021 | 211 |\n",
    "| 4th Feb 2021 | 220 |\n",
    "| 5th Feb 2021 | 235 |\n",
    "### Start from : Shared References and Equality"
   ],
   "cell_type": "markdown",
   "metadata": {}
  },
  {
   "source": [
    "# <u><b><i>THE HANDBOOK OF TECHNICAL ANALYSIS</i></b></u>"
   ],
   "cell_type": "markdown",
   "metadata": {}
  },
  {
   "source": [
    "| <b><u>Date</u></b> | <b><u>Page No.</u></b> |\n",
    "| :--: |:------: |\n",
    "| 5th Feb 2021  | 46 |\n",
    "\n",
    "### Start From: Contradictory, Confirmatory, and Complementory Signals"
   ],
   "cell_type": "markdown",
   "metadata": {}
  }
 ]
}