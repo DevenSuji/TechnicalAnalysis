{
 "metadata": {
  "language_info": {
   "codemirror_mode": {
    "name": "ipython",
    "version": 3
   },
   "file_extension": ".py",
   "mimetype": "text/x-python",
   "name": "python",
   "nbconvert_exporter": "python",
   "pygments_lexer": "ipython3",
   "version": "3.8.5-final"
  },
  "orig_nbformat": 2,
  "kernelspec": {
   "name": "python3",
   "display_name": "Python 3.8.5 64-bit",
   "metadata": {
    "interpreter": {
     "hash": "31f2aee4e71d21fbe5cf8b01ff0e069b9275f58929596ceb00d14d90e3e16cd6"
    }
   }
  }
 },
 "nbformat": 4,
 "nbformat_minor": 2,
 "cells": [
  {
   "source": [
    "# DAILY PROGRESS"
   ],
   "cell_type": "markdown",
   "metadata": {}
  },
  {
   "source": [
    "# <u><b><i>THE HANDBOOK OF TECHNICAL ANALYSIS</i></b></u>"
   ],
   "cell_type": "markdown",
   "metadata": {}
  },
  {
   "cell_type": "code",
   "execution_count": 7,
   "metadata": {},
   "outputs": [
    {
     "output_type": "stream",
     "name": "stdout",
     "text": [
      "[5, 11, 37]\n"
     ]
    }
   ],
   "source": [
    "numbers = [1, 1, 2, 3, 5, 8, 13, 21, 34, 55]\n",
    "result = [num + 3 for num in numbers if num % 2 == 0]\n",
    "print(result)"
   ]
  },
  {
   "source": [
    "| <b><u>Date</u></b> | <b><u>Page No.</u></b> |\n",
    "| :--: |:------: |\n",
    "| 5th Feb 2021  | 46 |\n",
    "\n",
    "### Start From: Contradictory, Confirmatory, and Complementory Signals"
   ],
   "cell_type": "markdown",
   "metadata": {}
  }
 ]
}